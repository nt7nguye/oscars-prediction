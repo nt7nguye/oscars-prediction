{
 "cells": [
  {
   "cell_type": "code",
   "execution_count": 30,
   "id": "1e2ab6f9",
   "metadata": {
    "scrolled": false
   },
   "outputs": [],
   "source": [
    "from bs4 import BeautifulSoup\n",
    "import requests\n",
    "import pandas as pd\n",
    "import csv\n",
    "from unidecode import unidecode"
   ]
  },
  {
   "cell_type": "code",
   "execution_count": 38,
   "id": "9d07baf8",
   "metadata": {},
   "outputs": [
    {
     "name": "stdout",
     "output_type": "stream",
     "text": [
      "Error: Year 1975, category aabd, description 'NoneType' object has no attribute 'find_next_sibling'\n",
      "Error: Year 1983, category aabd, description 'NoneType' object has no attribute 'find_next_sibling'\n",
      "Error: Year 1988, category aabd, description 'NoneType' object has no attribute 'find_next_sibling'\n",
      "Error: Year 1988, category aabsa, description 'NoneType' object has no attribute 'find_next_sibling'\n",
      "Error: Year 1988, category aabsas, description 'NoneType' object has no attribute 'find_next_sibling'\n",
      "Error: Year 1989, category aabd, description 'NoneType' object has no attribute 'find_next_sibling'\n",
      "Error: Year 1989, category aabsa, description 'NoneType' object has no attribute 'find_next_sibling'\n",
      "Error: Year 1989, category aabsas, description 'NoneType' object has no attribute 'find_next_sibling'\n",
      "Error: Year 1990, category aabd, description 'NoneType' object has no attribute 'find_next_sibling'\n",
      "Error: Year 1990, category aabsa, description 'NoneType' object has no attribute 'find_next_sibling'\n",
      "Error: Year 1990, category aabsas, description 'NoneType' object has no attribute 'find_next_sibling'\n",
      "Error: Year 1991, category aabd, description 'NoneType' object has no attribute 'find_next_sibling'\n",
      "Error: Year 1992, category aabd, description 'NoneType' object has no attribute 'find_next_sibling'\n",
      "Error: Year 1992, category aabsa, description 'NoneType' object has no attribute 'find_next_sibling'\n",
      "Error: Year 1992, category aabsas, description 'NoneType' object has no attribute 'find_next_sibling'\n",
      "Error: Year 1993, category aabd, description 'NoneType' object has no attribute 'find_next_sibling'\n",
      "Error: Year 1993, category aabsa, description 'NoneType' object has no attribute 'find_next_sibling'\n",
      "Error: Year 1993, category aabsas, description 'NoneType' object has no attribute 'find_next_sibling'\n",
      "Error: Year 1994, category aabd, description 'NoneType' object has no attribute 'find_next_sibling'\n",
      "Error: Year 1994, category aabsa, description 'NoneType' object has no attribute 'find_next_sibling'\n",
      "Error: Year 1994, category aabsas, description 'NoneType' object has no attribute 'find_next_sibling'\n",
      "Error: Year 1995, category aabd, description 'NoneType' object has no attribute 'find_next_sibling'\n",
      "Error: Year 1995, category aabsa, description 'NoneType' object has no attribute 'find_next_sibling'\n",
      "Error: Year 1995, category aabsas, description 'NoneType' object has no attribute 'find_next_sibling'\n",
      "Error: Year 1996, category aabd, description 'NoneType' object has no attribute 'find_next_sibling'\n",
      "Error: Year 1996, category aabsa, description 'NoneType' object has no attribute 'find_next_sibling'\n",
      "Error: Year 1996, category aabsas, description 'NoneType' object has no attribute 'find_next_sibling'\n",
      "Error: Year 1997, category aabd, description 'NoneType' object has no attribute 'find_next_sibling'\n",
      "Error: Year 1997, category aabsa, description 'NoneType' object has no attribute 'find_next_sibling'\n",
      "Error: Year 1997, category aabsas, description 'NoneType' object has no attribute 'find_next_sibling'\n",
      "Error: Year 1998, category aabd, description 'NoneType' object has no attribute 'find_next_sibling'\n",
      "Error: Year 1998, category aabsa, description 'NoneType' object has no attribute 'find_next_sibling'\n",
      "Error: Year 1998, category aabsas, description 'NoneType' object has no attribute 'find_next_sibling'\n",
      "Error: Year 1999, category aabd, description 'NoneType' object has no attribute 'find_next_sibling'\n",
      "Error: Year 1999, category aabsa, description 'NoneType' object has no attribute 'find_next_sibling'\n",
      "Error: Year 1999, category aabsas, description 'NoneType' object has no attribute 'find_next_sibling'\n",
      "Error: Year 2001, category aabd, description 'NoneType' object has no attribute 'find_next_sibling'\n",
      "Error: Year 2001, category aabsa, description 'NoneType' object has no attribute 'find_next_sibling'\n",
      "Error: Year 2001, category aabsas, description 'NoneType' object has no attribute 'find_next_sibling'\n",
      "Error: Year 2003, category aabd, description 'NoneType' object has no attribute 'find_next_sibling'\n",
      "Error: Year 2005, category aabd, description 'NoneType' object has no attribute 'find_next_sibling'\n",
      "Error: Year 2005, category aaba, description 'NoneType' object has no attribute 'find_next_sibling'\n",
      "Error: Year 2005, category aabas, description 'NoneType' object has no attribute 'find_next_sibling'\n",
      "Error: Year 2005, category aabsa, description 'NoneType' object has no attribute 'find_next_sibling'\n",
      "Error: Year 2005, category aabsas, description 'NoneType' object has no attribute 'find_next_sibling'\n",
      "Error: Year 2008, category aabp, description invalid literal for int() with base 10: '/A'\n",
      "Error: Year 2008, category aabd, description 'NoneType' object has no attribute 'find_next_sibling'\n",
      "Error: Year 2008, category aaba, description 'NoneType' object has no attribute 'find_next_sibling'\n",
      "Error: Year 2008, category aabas, description 'NoneType' object has no attribute 'find_next_sibling'\n"
     ]
    }
   ],
   "source": [
    "categories = ['aabp', 'aabd', 'aaba', 'aabas', 'aabsa', 'aabsas']\n",
    "csv_rows = {category: [] for category in categories}\n",
    "\n",
    "\n",
    "for year in range(1974, 2023):\n",
    "    page = requests.get(f\"https://www.sportsoddshistory.com/aa-awd/?y={year}\")\n",
    "    soup = BeautifulSoup(page.text, \"html.parser\")\n",
    "    \n",
    "    # Some year don't have historical odds\n",
    "    if soup.find('a', {'id': 'aabp'}) is None:\n",
    "        continue\n",
    "    \n",
    "    for category in categories:\n",
    "        try:\n",
    "            elem_rows = soup.find('a', {'id': category}).find_next_sibling('table').find('tbody').find_all('tr')\n",
    "            for elem_row in elem_rows:\n",
    "                # First column is year\n",
    "                data_row = [year]\n",
    "                \n",
    "                # Append the rest of the columns\n",
    "                data_row.extend([unidecode(td_elem.text).strip() for td_elem in elem_row.find_all('td')])\n",
    "                \n",
    "                # Convert last column (winner)\n",
    "                data_row[-1] = True if data_row[-1] == \"**  WINNER  **\" else False\n",
    "                \n",
    "                # Convert second last column (odds)\n",
    "                data_row[-2] = american_to_decimal_odds(data_row[-2])\n",
    "                csv_rows[category].append(data_row)\n",
    "            \n",
    "        except Exception as err:\n",
    "            print(f'Error: Year {year}, category {category}, description {err}')\n",
    "    \n",
    "# Print to files\n",
    "for category in categories:\n",
    "    with open(f'data/archived_odds/{category}.csv', 'w', newline='') as f:\n",
    "        writer = csv.writer(f)\n",
    "        writer.writerows(csv_rows[category])\n",
    "        "
   ]
  },
  {
   "cell_type": "code",
   "execution_count": 37,
   "id": "9482cb89",
   "metadata": {},
   "outputs": [],
   "source": [
    "def american_to_decimal_odds(odds):\n",
    "    if odds == 'N/A':\n",
    "        return 0\n",
    "    if odds[0] == '-':\n",
    "        return (100 + int(odds[1:])) / int(odds[1:])\n",
    "    return (100 + int(odds[1:])) / 100\n",
    "\n",
    "def american_to_implied_prob(odds):\n",
    "    return 1 / american_to_decimal_odds(odds)"
   ]
  },
  {
   "cell_type": "code",
   "execution_count": null,
   "id": "8bcf0e46",
   "metadata": {},
   "outputs": [],
   "source": []
  }
 ],
 "metadata": {
  "kernelspec": {
   "display_name": "Python 3 (ipykernel)",
   "language": "python",
   "name": "python3"
  },
  "language_info": {
   "codemirror_mode": {
    "name": "ipython",
    "version": 3
   },
   "file_extension": ".py",
   "mimetype": "text/x-python",
   "name": "python",
   "nbconvert_exporter": "python",
   "pygments_lexer": "ipython3",
   "version": "3.9.13"
  }
 },
 "nbformat": 4,
 "nbformat_minor": 5
}
